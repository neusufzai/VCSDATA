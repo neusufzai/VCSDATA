{
  "cells": [
    {
      "cell_type": "markdown",
      "metadata": {
        "id": "view-in-github",
        "colab_type": "text"
      },
      "source": [
        "<a href=\"https://colab.research.google.com/github/neusufzai/VCSDATA/blob/master/Week4_HW2_NabeelEusufzai.ipynb\" target=\"_parent\"><img src=\"https://colab.research.google.com/assets/colab-badge.svg\" alt=\"Open In Colab\"/></a>"
      ]
    },
    {
      "cell_type": "markdown",
      "source": [
        "# **Week 4.Homework 2. Conditional Ststaments & Loops**"
      ],
      "metadata": {
        "id": "KMpff5IIShYo"
      },
      "id": "KMpff5IIShYo"
    },
    {
      "cell_type": "markdown",
      "source": [
        "**Question 1:** Write a program to check if a given number is positive."
      ],
      "metadata": {
        "id": "84pgwvwFPbc9"
      },
      "id": "84pgwvwFPbc9"
    },
    {
      "cell_type": "code",
      "source": [
        "num1=input(\"Please enter any number, can be positive or negative: \")\n",
        "num1=int(num1)\n",
        "\n",
        "if num1 >=1:\n",
        "  print(\"Your number is positive\")\n",
        "else:\n",
        "  print(\"Your number is not positive\")"
      ],
      "metadata": {
        "id": "8gVQ6F13Pbi5",
        "colab": {
          "base_uri": "https://localhost:8080/"
        },
        "outputId": "ebcd072e-0484-4380-bc1f-836102c40de0"
      },
      "id": "8gVQ6F13Pbi5",
      "execution_count": 1,
      "outputs": [
        {
          "output_type": "stream",
          "name": "stdout",
          "text": [
            "Please enter any number, can be positive or negative: 7\n",
            "Your number is positive\n"
          ]
        }
      ]
    },
    {
      "cell_type": "markdown",
      "source": [
        "\n",
        "\n",
        "---\n",
        "\n",
        "\n",
        "\n",
        "---\n",
        "\n",
        "\n",
        "\n",
        "---\n",
        "\n"
      ],
      "metadata": {
        "id": "KEOOVaQ1RomG"
      },
      "id": "KEOOVaQ1RomG"
    },
    {
      "cell_type": "markdown",
      "source": [
        "**Question 2:** Write a program to check if a given number is zero."
      ],
      "metadata": {
        "id": "nAvOPEKpPsU-"
      },
      "id": "nAvOPEKpPsU-"
    },
    {
      "cell_type": "code",
      "source": [
        "num1=input(\"Please enter any number, can be positive or negative: \")\n",
        "num1=int(num1)\n",
        "\n",
        "if num1 ==0:\n",
        "  print(\"Your number is exactly zero\")\n",
        "else:\n",
        "  print(\"Your number is not zero\")"
      ],
      "metadata": {
        "id": "rTnH0KefPsfk",
        "colab": {
          "base_uri": "https://localhost:8080/"
        },
        "outputId": "446a5200-790d-407b-a871-966a5c191726"
      },
      "id": "rTnH0KefPsfk",
      "execution_count": null,
      "outputs": [
        {
          "output_type": "stream",
          "name": "stdout",
          "text": [
            "Please enter any number, can be positive or negative: 0\n",
            "Your number is exactly zero\n"
          ]
        }
      ]
    },
    {
      "cell_type": "markdown",
      "source": [
        "**Question 3:** Write a program to check if a number is even or odd."
      ],
      "metadata": {
        "id": "_Aen2ed1O3MM"
      },
      "id": "_Aen2ed1O3MM"
    },
    {
      "cell_type": "code",
      "source": [
        "num1=input(\"Please enter any number, can be positive or negative: \")\n",
        "num1=int(num1)\n",
        "\n",
        "if num1 %2 == 0:\n",
        "  print(\"Your number is even\")\n",
        "else:\n",
        "  print(\"Your number is odd\")"
      ],
      "metadata": {
        "id": "fwmbBwgRO3Tp",
        "colab": {
          "base_uri": "https://localhost:8080/"
        },
        "outputId": "9b1f72dc-919a-4786-dcca-d60c81a8fa4d"
      },
      "id": "fwmbBwgRO3Tp",
      "execution_count": null,
      "outputs": [
        {
          "output_type": "stream",
          "name": "stdout",
          "text": [
            "Please enter any number, can be positive or negative: 45\n",
            "Your number is odd\n"
          ]
        }
      ]
    },
    {
      "cell_type": "markdown",
      "source": [
        "**Question 4:** Write a program to categorize a person's age: Child (< 13), Teen (13-19), Adult (>= 20)."
      ],
      "metadata": {
        "id": "vKjni5jVP4BO"
      },
      "id": "vKjni5jVP4BO"
    },
    {
      "cell_type": "code",
      "source": [
        "num1=input(\"Please enter your age in years: \")\n",
        "num1=int(num1)\n",
        "\n",
        "if num1 < 13:\n",
        "  print(\"You are a child\")\n",
        "elif num1 >= 13 and num1 <= 19:\n",
        "  print(\"You are a teen\")\n",
        "else:\n",
        "  print(\"You are an adult\")"
      ],
      "metadata": {
        "id": "IQkgIenTP4KV",
        "colab": {
          "base_uri": "https://localhost:8080/"
        },
        "outputId": "502ec82b-a2e3-431a-d21c-f095266d624d"
      },
      "id": "IQkgIenTP4KV",
      "execution_count": null,
      "outputs": [
        {
          "output_type": "stream",
          "name": "stdout",
          "text": [
            "Please enter your age in years: 15\n",
            "You are a teen\n"
          ]
        }
      ]
    },
    {
      "cell_type": "markdown",
      "source": [
        "**Question 5:**\n",
        "Write a program to find the largest among three numbers."
      ],
      "metadata": {
        "id": "nw7wb-g8O3dP"
      },
      "id": "nw7wb-g8O3dP"
    },
    {
      "cell_type": "code",
      "source": [
        "num1= int(input(\"Please enter any number: \"))\n",
        "num2= int(input(\"Please enter a second number: \"))\n",
        "num3= int(input(\"Please enter a third number: \"))\n",
        "\n",
        "large_num= max(num1, num2, num3)\n",
        "\n",
        "print(\"The largest number of those three is \",large_num)"
      ],
      "metadata": {
        "id": "2gmW4HjPO3je",
        "colab": {
          "base_uri": "https://localhost:8080/"
        },
        "outputId": "4c1c44d4-05d9-4dad-efb8-b3943c9c5e95"
      },
      "id": "2gmW4HjPO3je",
      "execution_count": null,
      "outputs": [
        {
          "output_type": "stream",
          "name": "stdout",
          "text": [
            "Please enter any number: 56\n",
            "Please enter a second number: 35\n",
            "Please enter a third number: 2578\n",
            "The largest number of those three is  2578\n"
          ]
        }
      ]
    },
    {
      "cell_type": "markdown",
      "source": [],
      "metadata": {
        "id": "zBPHvzF5-mcK"
      },
      "id": "zBPHvzF5-mcK"
    },
    {
      "cell_type": "markdown",
      "source": [
        "**Question 6:** Write a program to check if a year is a leap year."
      ],
      "metadata": {
        "id": "agt3rtDOO3ry"
      },
      "id": "agt3rtDOO3ry"
    },
    {
      "cell_type": "markdown",
      "source": [
        "**Since every 4 years is a leap year, every leap year should be divisible by 4**"
      ],
      "metadata": {
        "id": "6dCcntnN99mN"
      },
      "id": "6dCcntnN99mN"
    },
    {
      "cell_type": "code",
      "source": [
        "year=int(input(\"Please enter a year: \"))\n",
        "\n",
        "if year%4 == 0:\n",
        "  print(\"This year is a leap year\")\n",
        "else:\n",
        "  print(\"This is not a leap year\")"
      ],
      "metadata": {
        "id": "RC1f1IJnO3x1"
      },
      "id": "RC1f1IJnO3x1",
      "execution_count": null,
      "outputs": []
    },
    {
      "cell_type": "markdown",
      "source": [
        "**Question 7:** Write a for loop that prints numbers from 1 to 10.\n",
        "Answer:"
      ],
      "metadata": {
        "id": "otK-kNuDO3-t"
      },
      "id": "otK-kNuDO3-t"
    },
    {
      "cell_type": "code",
      "source": [
        "for i in range(1, 11):\n",
        "  print(i)"
      ],
      "metadata": {
        "id": "xGVaefEKO4Gl",
        "colab": {
          "base_uri": "https://localhost:8080/"
        },
        "outputId": "c54d9a6d-09a3-4ef1-de8e-5f5e10d84f43"
      },
      "id": "xGVaefEKO4Gl",
      "execution_count": null,
      "outputs": [
        {
          "output_type": "stream",
          "name": "stdout",
          "text": [
            "1\n",
            "2\n",
            "3\n",
            "4\n",
            "5\n",
            "6\n",
            "7\n",
            "8\n",
            "9\n",
            "10\n"
          ]
        }
      ]
    },
    {
      "cell_type": "markdown",
      "source": [
        "**Question 8:** Use a for loop to print all even numbers between 1 and 20.\n",
        "Answer:"
      ],
      "metadata": {
        "id": "o7wDAoawQYP2"
      },
      "id": "o7wDAoawQYP2"
    },
    {
      "cell_type": "code",
      "source": [
        "for i in range(1,21):\n",
        "  if i % 2 ==0:\n",
        "    print(i)"
      ],
      "metadata": {
        "id": "ACihkllHQYWn",
        "colab": {
          "base_uri": "https://localhost:8080/"
        },
        "outputId": "4c8d3c51-bf78-4f6d-e3ab-47135e078a78"
      },
      "id": "ACihkllHQYWn",
      "execution_count": null,
      "outputs": [
        {
          "output_type": "stream",
          "name": "stdout",
          "text": [
            "2\n",
            "4\n",
            "6\n",
            "8\n",
            "10\n",
            "12\n",
            "14\n",
            "16\n",
            "18\n",
            "20\n"
          ]
        }
      ]
    },
    {
      "cell_type": "markdown",
      "source": [
        "**Question 9:** Write a for loop that counts down from 10 to 1."
      ],
      "metadata": {
        "id": "IkrL759eQcb-"
      },
      "id": "IkrL759eQcb-"
    },
    {
      "cell_type": "code",
      "source": [
        "for i in range(10, 0, -1):\n",
        "    print(i)"
      ],
      "metadata": {
        "id": "eurCUDCgQcjA",
        "colab": {
          "base_uri": "https://localhost:8080/"
        },
        "outputId": "907e48f8-fcab-409f-a1c9-f5c98ecee330"
      },
      "id": "eurCUDCgQcjA",
      "execution_count": null,
      "outputs": [
        {
          "output_type": "stream",
          "name": "stdout",
          "text": [
            "10\n",
            "9\n",
            "8\n",
            "7\n",
            "6\n",
            "5\n",
            "4\n",
            "3\n",
            "2\n",
            "1\n"
          ]
        }
      ]
    },
    {
      "cell_type": "markdown",
      "source": [
        "**Question 10:** Write a while loop that prints \"Hello\" 5 times."
      ],
      "metadata": {
        "id": "9dCBvJewQcqg"
      },
      "id": "9dCBvJewQcqg"
    },
    {
      "cell_type": "code",
      "source": [
        "count = 1\n",
        "while count < 6:\n",
        "    print(\"hello\")\n",
        "    count +=1"
      ],
      "metadata": {
        "id": "s1584e9GQcwQ",
        "colab": {
          "base_uri": "https://localhost:8080/"
        },
        "outputId": "ea6dd58c-6ec7-4555-e22e-2bf4632035d0"
      },
      "id": "s1584e9GQcwQ",
      "execution_count": null,
      "outputs": [
        {
          "output_type": "stream",
          "name": "stdout",
          "text": [
            "hello\n",
            "hello\n",
            "hello\n",
            "hello\n",
            "hello\n"
          ]
        }
      ]
    },
    {
      "cell_type": "markdown",
      "source": [
        "**Question 11:** Use a while loop to continuously ask the user for input until they enter 'quit'."
      ],
      "metadata": {
        "id": "Pq7Agon3QhzN"
      },
      "id": "Pq7Agon3QhzN"
    },
    {
      "cell_type": "code",
      "source": [
        "word = ''\n",
        "\n",
        "while word != 'quit':\n",
        "    word = input(\"Enter a word (or type 'quit' to exit): \")\n",
        "\n",
        "print(\"Exiting the program. Goodbye!\")"
      ],
      "metadata": {
        "id": "TFynU9VaQh7Q",
        "colab": {
          "base_uri": "https://localhost:8080/"
        },
        "outputId": "f8b7ae1a-a8af-4f88-ffac-53139e4682f5"
      },
      "id": "TFynU9VaQh7Q",
      "execution_count": null,
      "outputs": [
        {
          "output_type": "stream",
          "name": "stdout",
          "text": [
            "Enter a word (or type 'quit' to exit): dksg\n",
            "Enter a word (or type 'quit' to exit): sgjls\n",
            "Enter a word (or type 'quit' to exit): quit\n",
            "Exiting the program. Goodbye!\n"
          ]
        }
      ]
    },
    {
      "cell_type": "markdown",
      "source": [
        "**Question 12:** Write a program that uses a while loop to sum numbers entered by the user until the user enters 0. Print the total sum after the loop ends."
      ],
      "metadata": {
        "id": "HeNAXXMtSYKU"
      },
      "id": "HeNAXXMtSYKU"
    },
    {
      "cell_type": "code",
      "source": [
        "total_sum = 0\n",
        "\n",
        "while True:\n",
        "  num1 = int(input(\"Please enter a number, or enter 0 to quit: \"))\n",
        "  total_sum += num1\n",
        "\n",
        "  if num1 == 0:\n",
        "    break\n",
        "\n",
        "print(\"Your total sum is: \",total_sum)"
      ],
      "metadata": {
        "id": "cWoq698SSYTo",
        "colab": {
          "base_uri": "https://localhost:8080/"
        },
        "outputId": "760094eb-ef36-420a-e7f3-5e5c83bff90d"
      },
      "id": "cWoq698SSYTo",
      "execution_count": null,
      "outputs": [
        {
          "output_type": "stream",
          "name": "stdout",
          "text": [
            "Please enter a number, or enter 0 to quit: 546\n",
            "Please enter a number, or enter 0 to quit: 435\n",
            "Please enter a number, or enter 0 to quit: 567\n",
            "Please enter a number, or enter 0 to quit: 234\n",
            "Please enter a number, or enter 0 to quit: 0\n",
            "Your total sum is:  1782\n"
          ]
        }
      ]
    }
  ],
  "metadata": {
    "colab": {
      "provenance": [],
      "include_colab_link": true
    },
    "language_info": {
      "name": "python"
    },
    "kernelspec": {
      "name": "python3",
      "display_name": "Python 3"
    }
  },
  "nbformat": 4,
  "nbformat_minor": 5
}